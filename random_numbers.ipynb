{
 "cells": [
  {
   "cell_type": "code",
   "execution_count": 3,
   "id": "f7d2d184",
   "metadata": {},
   "outputs": [],
   "source": [
    "# Import the random module.\n",
    "import random"
   ]
  },
  {
   "cell_type": "code",
   "execution_count": 5,
   "id": "51ace0aa",
   "metadata": {},
   "outputs": [
    {
     "data": {
      "text/plain": [
       "-74"
      ]
     },
     "execution_count": 5,
     "metadata": {},
     "output_type": "execute_result"
    }
   ],
   "source": [
    "random.randint(-90, 90)"
   ]
  },
  {
   "cell_type": "code",
   "execution_count": 6,
   "id": "19244dff",
   "metadata": {},
   "outputs": [
    {
     "data": {
      "text/plain": [
       "0.33514371504520024"
      ]
     },
     "execution_count": 6,
     "metadata": {},
     "output_type": "execute_result"
    }
   ],
   "source": [
    "random.random()"
   ]
  },
  {
   "cell_type": "code",
   "execution_count": 7,
   "id": "ad3d6359",
   "metadata": {},
   "outputs": [],
   "source": [
    "x = 1\n",
    "latitudes = []\n",
    "while x < 11:\n",
    "    random_lat = random.randint(-90, 89) + random.random()\n",
    "    latitudes.append(random_lat)\n",
    "    x += 1"
   ]
  },
  {
   "cell_type": "code",
   "execution_count": 8,
   "id": "c555b9fa",
   "metadata": {},
   "outputs": [],
   "source": [
    "# Import the NumPy module.\n",
    "import numpy as np"
   ]
  },
  {
   "cell_type": "code",
   "execution_count": 9,
   "id": "1aca7926",
   "metadata": {},
   "outputs": [
    {
     "data": {
      "text/plain": [
       "42.50760793249901"
      ]
     },
     "execution_count": 9,
     "metadata": {},
     "output_type": "execute_result"
    }
   ],
   "source": [
    "np.random.uniform(low=-90, high=90)"
   ]
  },
  {
   "cell_type": "code",
   "execution_count": 12,
   "id": "0962be6b",
   "metadata": {},
   "outputs": [
    {
     "name": "stdout",
     "output_type": "stream",
     "text": [
      "9.15 µs ± 36.7 ns per loop (mean ± std. dev. of 7 runs, 100000 loops each)\n"
     ]
    },
    {
     "data": {
      "text/plain": [
       "array([ 27.45821099,  80.49537839,  88.82297164,  56.11557137,\n",
       "        80.43721199, -19.34533435, -58.45072021,  53.08874006,\n",
       "        82.70439442,  52.77008724, -14.36519106,  67.9745836 ,\n",
       "       -76.21090484,  14.25736837, -30.19341312,  -6.25693014,\n",
       "       -76.9495204 , -53.8928263 , -59.6901144 ,  64.21464648,\n",
       "       -31.17918621, -23.88532747,   1.58806667,  56.2688848 ,\n",
       "       -38.73262494,  11.93495172, -73.8554523 , -13.82520446,\n",
       "        89.41532303,  -8.87391176,  79.88589106, -84.12057788,\n",
       "         9.24655537,  72.26982372,  33.12206095, -19.39753644,\n",
       "       -26.12401782,   8.57296657,  61.8656541 ,  15.0781618 ,\n",
       "       -87.18705716,  33.26473347,  76.48120747, -45.18872096,\n",
       "       -45.24129793,  -3.12429976,  80.92454201,   5.29479819,\n",
       "       -57.68933165, -59.73174086])"
      ]
     },
     "execution_count": 12,
     "metadata": {},
     "output_type": "execute_result"
    }
   ],
   "source": [
    "%timeit np.random.uniform(-90.000, 90.000, size=1500)\n",
    "np.random.uniform(-90.000, 90.000, size=50)"
   ]
  },
  {
   "cell_type": "code",
   "execution_count": 15,
   "id": "42ec637d",
   "metadata": {},
   "outputs": [],
   "source": [
    "# Import timeit.\n",
    "import timeit"
   ]
  },
  {
   "cell_type": "code",
   "execution_count": 16,
   "id": "18c9a585",
   "metadata": {},
   "outputs": [
    {
     "name": "stdout",
     "output_type": "stream",
     "text": [
      "9.09 µs ± 22 ns per loop (mean ± std. dev. of 7 runs, 100000 loops each)\n"
     ]
    },
    {
     "data": {
      "text/plain": [
       "array([ 50.94646059,  35.73649955,  -6.71478415, -23.35226279,\n",
       "        82.24240545,  24.71599921,  74.6560309 ,  82.29937644,\n",
       "       -57.62079629,  87.95930975,   7.4478328 , -13.18683943,\n",
       "       -36.97775736,  -2.55891353,  70.4662791 ,  31.13557113,\n",
       "         2.41392461,  89.83947249,  -1.31111502,  51.37014885,\n",
       "       -61.98538698,  64.13547688,  25.55235782,   1.29158622,\n",
       "        15.40413548, -72.52307338, -15.568146  ,  15.53039434,\n",
       "       -12.25659536, -47.06052871,  47.71763338,  42.17005703,\n",
       "        15.72453419, -81.11971214,   2.55531272, -31.43549533,\n",
       "        -5.73676638,  35.69721148, -43.61642449, -63.33350794,\n",
       "        -7.76851093,  20.56814588, -79.89878071,  88.56795014,\n",
       "        28.57242933,  54.29273739,  35.29023462, -28.93030794,\n",
       "        45.58867995, -50.08915922])"
      ]
     },
     "execution_count": 16,
     "metadata": {},
     "output_type": "execute_result"
    }
   ],
   "source": [
    "%timeit np.random.uniform(-90.000, 90.000, size=1500)\n",
    "np.random.uniform(-90.000, 90.000, size=50)"
   ]
  },
  {
   "cell_type": "code",
   "execution_count": 17,
   "id": "08654767",
   "metadata": {},
   "outputs": [
    {
     "name": "stdout",
     "output_type": "stream",
     "text": [
      "967 µs ± 2.51 µs per loop (mean ± std. dev. of 7 runs, 1000 loops each)\n"
     ]
    }
   ],
   "source": [
    "def latitudes(size):\n",
    "    latitudes = []\n",
    "    x = 0\n",
    "    while x < (size):\n",
    "        random_lat = random.randint(-90, 90) + random.random()\n",
    "        latitudes.append(random_lat)\n",
    "        x += 1\n",
    "    return latitudes\n",
    "# Call the function with 1500.\n",
    "%timeit latitudes(1500)"
   ]
  },
  {
   "cell_type": "code",
   "execution_count": null,
   "id": "ff1383a8",
   "metadata": {},
   "outputs": [],
   "source": []
  }
 ],
 "metadata": {
  "kernelspec": {
   "display_name": "PythonData",
   "language": "python",
   "name": "pythondata"
  },
  "language_info": {
   "codemirror_mode": {
    "name": "ipython",
    "version": 3
   },
   "file_extension": ".py",
   "mimetype": "text/x-python",
   "name": "python",
   "nbconvert_exporter": "python",
   "pygments_lexer": "ipython3",
   "version": "3.9.7"
  }
 },
 "nbformat": 4,
 "nbformat_minor": 5
}
